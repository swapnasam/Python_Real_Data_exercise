{
  "nbformat": 4,
  "nbformat_minor": 0,
  "metadata": {
    "kernelspec": {
      "display_name": "Python [conda root]",
      "language": "python",
      "name": "conda-root-py"
    },
    "language_info": {
      "codemirror_mode": {
        "name": "ipython",
        "version": 3
      },
      "file_extension": ".py",
      "mimetype": "text/x-python",
      "name": "python",
      "nbconvert_exporter": "python",
      "pygments_lexer": "ipython3",
      "version": "3.5.2"
    },
    "colab": {
      "name": "Python_Home_Work_Section3_Data.ipynb",
      "provenance": [],
      "include_colab_link": true
    }
  },
  "cells": [
    {
      "cell_type": "markdown",
      "metadata": {
        "id": "view-in-github",
        "colab_type": "text"
      },
      "source": [
        "<a href=\"https://colab.research.google.com/github/swapnasam/Python_Real_Data_exercise/blob/master/Python_Home_Work_Section3_Data.ipynb\" target=\"_parent\"><img src=\"https://colab.research.google.com/assets/colab-badge.svg\" alt=\"Open In Colab\"/></a>"
      ]
    },
    {
      "cell_type": "code",
      "metadata": {
        "id": "DDBPLqC8BwMD",
        "colab_type": "code",
        "colab": {}
      },
      "source": [
        "#Data \n",
        "revenue = [14574.49, 7606.46, 8611.41, 9175.41, 8058.65, 8105.44, 11496.28, 9766.09, 10305.32, 14379.96, 10713.97, 15433.50]\n",
        "expenses = [12051.82, 5695.07, 12319.20, 12089.72, 8658.57, 840.20, 3285.73, 5821.12, 6976.93, 16618.61, 10054.37, 3803.96]"
      ],
      "execution_count": 1,
      "outputs": []
    },
    {
      "cell_type": "code",
      "metadata": {
        "id": "c0jNmglODWIH",
        "colab_type": "code",
        "colab": {
          "base_uri": "https://localhost:8080/",
          "height": 34
        },
        "outputId": "3f336837-46de-429f-b305-e5815ef7fa74"
      },
      "source": [
        "len(revenue)"
      ],
      "execution_count": 2,
      "outputs": [
        {
          "output_type": "execute_result",
          "data": {
            "text/plain": [
              "12"
            ]
          },
          "metadata": {
            "tags": []
          },
          "execution_count": 2
        }
      ]
    },
    {
      "cell_type": "code",
      "metadata": {
        "id": "f43e-T9mB-M9",
        "colab_type": "code",
        "colab": {
          "base_uri": "https://localhost:8080/",
          "height": 218
        },
        "outputId": "48144e02-751c-4164-eeaf-e8aa6d391095"
      },
      "source": [
        "profit = []\n",
        "for i in range(0, len(revenue)):\n",
        "\n",
        "  item = (revenue[i] - expenses[i])\n",
        "  profit.append(item)\n",
        "profit"
      ],
      "execution_count": 13,
      "outputs": [
        {
          "output_type": "execute_result",
          "data": {
            "text/plain": [
              "[2522.67,\n",
              " 1911.3900000000003,\n",
              " -3707.790000000001,\n",
              " -2914.3099999999995,\n",
              " -599.9200000000001,\n",
              " 7265.24,\n",
              " 8210.550000000001,\n",
              " 3944.9700000000003,\n",
              " 3328.3899999999994,\n",
              " -2238.6500000000015,\n",
              " 659.5999999999985,\n",
              " 11629.54]"
            ]
          },
          "metadata": {
            "tags": []
          },
          "execution_count": 13
        }
      ]
    },
    {
      "cell_type": "code",
      "metadata": {
        "id": "7tRsosN6B-Q1",
        "colab_type": "code",
        "colab": {
          "base_uri": "https://localhost:8080/",
          "height": 34
        },
        "outputId": "a1b48749-c92b-4eee-eb86-0fe34daa6a07"
      },
      "source": [
        "len(profit)"
      ],
      "execution_count": 4,
      "outputs": [
        {
          "output_type": "execute_result",
          "data": {
            "text/plain": [
              "12"
            ]
          },
          "metadata": {
            "tags": []
          },
          "execution_count": 4
        }
      ]
    },
    {
      "cell_type": "code",
      "metadata": {
        "id": "DELljE-HB-UM",
        "colab_type": "code",
        "colab": {
          "base_uri": "https://localhost:8080/",
          "height": 218
        },
        "outputId": "024eea0a-791c-4d33-c224-df6c98be6c08"
      },
      "source": [
        "profit_tax = []\n",
        "for i in range(0, len(profit)):\n",
        "\n",
        "  item = round(profit[i] - profit[i]*.30,2)\n",
        "  profit_tax.append(item)\n",
        "profit_tax"
      ],
      "execution_count": 17,
      "outputs": [
        {
          "output_type": "execute_result",
          "data": {
            "text/plain": [
              "[1765.87,\n",
              " 1337.97,\n",
              " -2595.45,\n",
              " -2040.02,\n",
              " -419.94,\n",
              " 5085.67,\n",
              " 5747.39,\n",
              " 2761.48,\n",
              " 2329.87,\n",
              " -1567.06,\n",
              " 461.72,\n",
              " 8140.68]"
            ]
          },
          "metadata": {
            "tags": []
          },
          "execution_count": 17
        }
      ]
    },
    {
      "cell_type": "code",
      "metadata": {
        "id": "wF6_-g44JhMH",
        "colab_type": "code",
        "colab": {
          "base_uri": "https://localhost:8080/",
          "height": 218
        },
        "outputId": "297b3a32-6db8-4ac0-8573-9cc38844df3a"
      },
      "source": [
        "#profit margin for each month\n",
        "\n",
        "profit_margin = []\n",
        "for i in range(0, len(revenue)):\n",
        "\n",
        "  item = round(profit_tax[i]/revenue[i] *100,2)\n",
        "  profit_margin.append(item)\n",
        "profit_margin"
      ],
      "execution_count": 18,
      "outputs": [
        {
          "output_type": "execute_result",
          "data": {
            "text/plain": [
              "[12.12,\n",
              " 17.59,\n",
              " -30.14,\n",
              " -22.23,\n",
              " -5.21,\n",
              " 62.74,\n",
              " 49.99,\n",
              " 28.28,\n",
              " 22.61,\n",
              " -10.9,\n",
              " 4.31,\n",
              " 52.75]"
            ]
          },
          "metadata": {
            "tags": []
          },
          "execution_count": 18
        }
      ]
    },
    {
      "cell_type": "code",
      "metadata": {
        "id": "qrXUCXO31lBe",
        "colab_type": "code",
        "colab": {
          "base_uri": "https://localhost:8080/",
          "height": 101
        },
        "outputId": "1a0833e0-2d67-4871-822a-592fdc736984"
      },
      "source": [
        "#to find mean\n",
        "\n",
        "profit_margin = []\n",
        "sum = 0 \n",
        "for i in range(0, len(revenue)):\n",
        "\n",
        "  sum = sum + profit_tax[i]\n",
        "\n",
        "mean = sum/len(revenue)\n",
        "print(mean)\n",
        "\n",
        "#good months\n",
        "good = []\n",
        "bad = []\n",
        "for i in range(0, len(revenue)):\n",
        "  if (profit_tax[i] > mean):\n",
        "    good.append(i)\n",
        "  else:\n",
        "    bad.append(i)\n",
        "print(\"Good Months\",good)\n",
        "print(\"Bad Months\",bad)\n",
        "\n",
        "print(\"Max profit month\",profit_tax.index(max(profit_tax)))\n",
        "print(\"Min profit month\",profit_tax.index(min(profit_tax)))"
      ],
      "execution_count": 19,
      "outputs": [
        {
          "output_type": "stream",
          "text": [
            "1750.6816666666666\n",
            "Good Months [0, 5, 6, 7, 8, 11]\n",
            "Bad Months [1, 2, 3, 4, 9, 10]\n",
            "Max profit month 11\n",
            "Min profit month 2\n"
          ],
          "name": "stdout"
        }
      ]
    },
    {
      "cell_type": "code",
      "metadata": {
        "id": "8cZ3Ipmt1lEJ",
        "colab_type": "code",
        "colab": {}
      },
      "source": [
        ""
      ],
      "execution_count": null,
      "outputs": []
    },
    {
      "cell_type": "code",
      "metadata": {
        "id": "h4MUsbGF1lHX",
        "colab_type": "code",
        "colab": {}
      },
      "source": [
        ""
      ],
      "execution_count": null,
      "outputs": []
    },
    {
      "cell_type": "code",
      "metadata": {
        "id": "kBw8r2ao1lL_",
        "colab_type": "code",
        "colab": {}
      },
      "source": [
        ""
      ],
      "execution_count": null,
      "outputs": []
    },
    {
      "cell_type": "code",
      "metadata": {
        "id": "OHmq1x2k1lPY",
        "colab_type": "code",
        "colab": {}
      },
      "source": [
        ""
      ],
      "execution_count": null,
      "outputs": []
    },
    {
      "cell_type": "code",
      "metadata": {
        "id": "VKL27lkk1k-F",
        "colab_type": "code",
        "colab": {}
      },
      "source": [
        ""
      ],
      "execution_count": null,
      "outputs": []
    },
    {
      "cell_type": "code",
      "metadata": {
        "id": "tvhiECfLJhPX",
        "colab_type": "code",
        "colab": {}
      },
      "source": [
        ""
      ],
      "execution_count": null,
      "outputs": []
    }
  ]
}